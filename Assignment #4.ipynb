{
 "cells": [
  {
   "cell_type": "code",
   "execution_count": 1,
   "metadata": {},
   "outputs": [
    {
     "name": "stdout",
     "output_type": "stream",
     "text": [
      "{'first_name': 'Amjad', 'last_name': 'Ali', 'age': '31', 'city': 'Jacobabad', 'qualification': 'BSCS'}\n",
      "{'first_name': 'Amjad', 'last_name': 'Ali', 'age': '31', 'city': 'Jacobabad', 'qualification': 'MSCS'}\n",
      "{'first_name': 'Amjad', 'last_name': 'Ali', 'age': '31', 'city': 'Jacobabad'}\n"
     ]
    }
   ],
   "source": [
    "#Q1\n",
    "info = {\n",
    "     \n",
    "        \"first_name\":\"Amjad\",\n",
    "        \"last_name\":\"Ali\",\n",
    "        \"age\":\"31\",\n",
    "        \"city\":\"Jacobabad\"        \n",
    "    }\n",
    "info.update({\"qualification\":\"BSCS\"}) #After add qualification key: \n",
    "print(info)\n",
    "info.update({\"qualification\":\"MSCS\"}) #After update qualification key:\n",
    "print(info)\n",
    "del info[\"qualification\"] #After delete qualification key:\n",
    "print(info)"
   ]
  },
  {
   "cell_type": "code",
   "execution_count": 2,
   "metadata": {},
   "outputs": [
    {
     "name": "stdout",
     "output_type": "stream",
     "text": [
      "we have four cities in dictionary \n",
      "\n",
      "{'information': {'country': 'pakistan', 'population': '200,845', 'fact': 'Jacobabad is Hottest place of pakistan'}} \n",
      "\n",
      "\t--------------------------------------------------------------------------\n",
      "\n",
      "{'information': {'country': 'saudi arabia', 'population': '3.431 million', 'fact': 'Largest city in makkah'}} \n",
      "\n",
      "\t--------------------------------------------------------------------------\n",
      "\n",
      "{'information': {'country': 'Oman', 'population': '4.636', 'fact': 'Muscat city is the capital of Oman'}} \n",
      "\n",
      "\t--------------------------------------------------------------------------\n",
      "\n",
      "{'information': {'country': 'UAE', 'population': '3.137 million', 'fact': 'Dubai is beutiful city of UAE'}} \n",
      "\n",
      "\t--------------------------------------------------------------------------\n",
      "\n"
     ]
    }
   ],
   "source": [
    "#Q2\n",
    "\n",
    "cities = {\n",
    "    \"jcd_city\":{\n",
    "        \"information\":{\n",
    "            \"country\":\"pakistan\",\n",
    "            \"population\":\"200,845\",\n",
    "            \"fact\":\"Jacobabad is Hottest place of pakistan\"\n",
    "        }\n",
    "    },\n",
    "    \"jeddah_city\":{\n",
    "        \"information\":{\n",
    "            \"country\":\"saudi arabia\",\n",
    "            \"population\":\"3.431 million\",\n",
    "            \"fact\":\"Largest city in makkah\"\n",
    "        }\n",
    "    },\n",
    "    \"oman_city\":{\n",
    "        \"information\":{\n",
    "            \"country\":\"Oman\",\n",
    "            \"population\":\"4.636\",\n",
    "            \"fact\":\"Muscat city is the capital of Oman\"\n",
    "        }\n",
    "    },\n",
    "    \"dubai_city\":{\n",
    "        \"information\":{\n",
    "            \"country\":\"UAE\",\n",
    "            \"population\":\"3.137 million\",\n",
    "            \"fact\":\"Dubai is beutiful city of UAE\"\n",
    "        }\n",
    "    }\n",
    "}\n",
    "\n",
    "print(\"we have four cities in dictionary \\n\")\n",
    "jacobabad = cities[\"jcd_city\"]\n",
    "print(jacobabad,\"\\n\\n\\t--------------------------------------------------------------------------\\n\")\n",
    "jeddah = cities[\"jeddah_city\"]\n",
    "print(jeddah,\"\\n\\n\\t--------------------------------------------------------------------------\\n\")\n",
    "oman = cities[\"oman_city\"]\n",
    "print(oman,\"\\n\\n\\t--------------------------------------------------------------------------\\n\")\n",
    "dubai = cities[\"dubai_city\"]\n",
    "print(dubai,\"\\n\\n\\t--------------------------------------------------------------------------\\n\")"
   ]
  },
  {
   "cell_type": "code",
   "execution_count": 6,
   "metadata": {},
   "outputs": [
    {
     "name": "stdout",
     "output_type": "stream",
     "text": [
      "Wellcome to Online ticket Booking System\n",
      "How many person you are: 2\n",
      "Enter age: 10\n",
      "Your ticket price will be 10$: \n",
      "Enter age: 31\n",
      "Your ticket price is will be 15$: \n",
      "Total price: 25\n"
     ]
    }
   ],
   "source": [
    "#Q3\n",
    "print(\"Wellcome to Online ticket Booking System\")\n",
    "pre = int(input(\"How many person you are: \"))\n",
    "cost = 0\n",
    "\n",
    "for c in range(1,pre+1):\n",
    "    age = int(input(\"Enter age: \"))\n",
    "    if age <= 3 and pre == 1:\n",
    "        print(\"You are not allow\")\n",
    "    elif age <= 12 and age >= 3:\n",
    "        print(\"Your ticket price will be 10$: \")\n",
    "        cost += 10\n",
    "    elif age >= 12:\n",
    "        print(\"Your ticket price is will be 15$: \")\n",
    "        cost += 15\n",
    "print(\"Total price: \"+str(cost))"
   ]
  },
  {
   "cell_type": "code",
   "execution_count": 7,
   "metadata": {},
   "outputs": [
    {
     "name": "stdout",
     "output_type": "stream",
     "text": [
      "one of the favorit book is Web Development using Python Django\n"
     ]
    }
   ],
   "source": [
    "#Q4\n",
    "\n",
    "def favorite_book(title):\n",
    "    print(\"one of the favorit book is\",title)\n",
    "\n",
    "favorite_book(title=\"Web Development using Python Django\")"
   ]
  },
  {
   "cell_type": "code",
   "execution_count": 8,
   "metadata": {},
   "outputs": [
    {
     "name": "stdout",
     "output_type": "stream",
     "text": [
      "Guess the number (game)\n",
      "you have three chance to win this game.\n",
      "Enter any number between 1 to 30 \n",
      "14\n",
      "numberr is less than <  14\n",
      "Enter any number between 1 to 30 \n",
      "30\n",
      "numberr is less than <  30\n",
      "Enter any number between 1 to 30 \n",
      "11\n",
      "numberr is less than <  11\n",
      "you lose\n",
      "Answer and Random ganrated number is:  10\n"
     ]
    }
   ],
   "source": [
    "#Q5\n",
    "\n",
    "import random\n",
    "\n",
    "print(\"Guess the number (game)\")\n",
    "number = random.randint(1,30)\n",
    "\n",
    "print(\"you have three chance to win this game.\")\n",
    "    \n",
    "for x in (\"abc\"):\n",
    "    user_number = int(input(\"Enter any number between 1 to 30 \\n\"))\n",
    "    if user_number == number:\n",
    "        print(\"you win\")\n",
    "        break\n",
    "    if user_number >= number:\n",
    "        print(\"numberr is less than < \",user_number)\n",
    "    if user_number <= number:\n",
    "        print(\"number is grater than > \",user_number)\n",
    "else:\n",
    "    print(\"you lose\")\n",
    "    print(\"Answer and Random ganrated number is: \",number)"
   ]
  },
  {
   "cell_type": "code",
   "execution_count": null,
   "metadata": {},
   "outputs": [],
   "source": []
  }
 ],
 "metadata": {
  "kernelspec": {
   "display_name": "Python 3",
   "language": "python",
   "name": "python3"
  },
  "language_info": {
   "codemirror_mode": {
    "name": "ipython",
    "version": 3
   },
   "file_extension": ".py",
   "mimetype": "text/x-python",
   "name": "python",
   "nbconvert_exporter": "python",
   "pygments_lexer": "ipython3",
   "version": "3.7.4"
  }
 },
 "nbformat": 4,
 "nbformat_minor": 2
}
